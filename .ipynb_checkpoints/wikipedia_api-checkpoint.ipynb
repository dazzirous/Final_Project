{
 "cells": [
  {
   "cell_type": "code",
   "execution_count": 26,
   "id": "58369856-dc72-48ff-be74-99c6f6c51bf6",
   "metadata": {},
   "outputs": [],
   "source": [
    "# Dependencies\n",
    "import json\n",
    "import requests\n",
    "import pandas as pd"
   ]
  },
  {
   "cell_type": "code",
   "execution_count": 29,
   "id": "8900a1ee-bd90-44c9-8407-5d0f7fed723f",
   "metadata": {},
   "outputs": [
    {
     "name": "stdout",
     "output_type": "stream",
     "text": [
      "                                       Title   Page ID  \\\n",
      "0                        American Revolution      1973   \n",
      "1               Flag on Prospect Hill debate  76953807   \n",
      "2       Template:American Revolution origins  17003234   \n",
      "3                              Boston Caucus  36486735   \n",
      "4                            Boston Massacre     82254   \n",
      "5                                 Brown Bess    185318   \n",
      "6   Commemoration of the American Revolution  56223894   \n",
      "7  Committee of safety (American Revolution)   1254421   \n",
      "8               Committees of correspondence   1138115   \n",
      "9                     Conquest of New France  18420108   \n",
      "\n",
      "                                         Description  \n",
      "0  The American Revolution was a rebellion and po...  \n",
      "1  According to tradition, the first flag of the ...  \n",
      "2                                                     \n",
      "3  The Boston Caucus was an informal political or...  \n",
      "4  The Boston Massacre (known in Great Britain as...  \n",
      "5  \"Brown Bess\" is a nickname of uncertain origin...  \n",
      "6  Commemoration of the American Revolution typif...  \n",
      "7  In the American Revolution, committees of corr...  \n",
      "8  The committees of correspondence were a collec...  \n",
      "9  The conquest of New France (French: La Conquêt...  \n"
     ]
    }
   ],
   "source": [
    "def get_articles_from_category(category):\n",
    "    # Define the API endpoint\n",
    "    url = \"https://en.wikipedia.org/w/api.php\"\n",
    "    \n",
    "    # Define the parameters for the API call to get the list of articles in the category\n",
    "    params_category = {\n",
    "        \"action\": \"query\",\n",
    "        \"format\": \"json\",\n",
    "        \"list\": \"categorymembers\",\n",
    "        \"cmtitle\": f\"Category:{category}\",\n",
    "        \"cmlimit\": 10,  # Limit the number of articles returned, adjust as needed\n",
    "        \"cmtype\": \"page\"  # Fetch only articles (pages), not subcategories or files\n",
    "    }\n",
    "    \n",
    "    # Make the request to the Wikipedia API\n",
    "    response = requests.get(url, params=params_category)\n",
    "    data = response.json()\n",
    "    \n",
    "    # Extract the list of articles\n",
    "    if \"query\" in data and \"categorymembers\" in data[\"query\"]:\n",
    "        articles = data[\"query\"][\"categorymembers\"]\n",
    "        \n",
    "        # Prepare a list to hold article details\n",
    "        articles_data = []\n",
    "        \n",
    "        # Loop through each article and fetch its description\n",
    "        for article in articles:\n",
    "            title = article['title']\n",
    "            page_id = article['pageid']\n",
    "            \n",
    "            # Fetch the article description (extract)\n",
    "            params_extract = {\n",
    "                \"action\": \"query\",\n",
    "                \"format\": \"json\",\n",
    "                \"prop\": \"extracts\",\n",
    "                \"exintro\": True,\n",
    "                \"explaintext\": True,\n",
    "                \"pageids\": page_id\n",
    "            }\n",
    "            \n",
    "            response_extract = requests.get(url, params=params_extract)\n",
    "            extract_data = response_extract.json()\n",
    "            \n",
    "            # Extract the description\n",
    "            extract = extract_data['query']['pages'][str(page_id)].get('extract', 'No description available.')\n",
    "            \n",
    "            # Append the article data to the list\n",
    "            articles_data.append({\n",
    "                \"Title\": title,\n",
    "                \"Page ID\": page_id,\n",
    "                \"Description\": extract\n",
    "            })\n",
    "        \n",
    "        # Convert the list to a DataFrame\n",
    "        df = pd.DataFrame(articles_data)\n",
    "        return df\n",
    "    else:\n",
    "        print(f\"No articles found in category: {category}\")\n",
    "        return None\n",
    "\n",
    "# Example usage:\n",
    "category_name = \"American Revolution\"\n",
    "df_articles = get_articles_from_category(category_name)\n",
    "\n",
    "# Display the DataFrame\n",
    "if df_articles is not None:\n",
    "    print(df_articles)"
   ]
  },
  {
   "cell_type": "code",
   "execution_count": 30,
   "id": "e0ed4b36-5973-4d2e-8af9-76d6dc59bfb5",
   "metadata": {},
   "outputs": [],
   "source": [
    "# Save the DataFrame to a CSV file\n",
    "df_articles.to_csv('american_revolution_articles.csv', index=False)"
   ]
  },
  {
   "cell_type": "code",
   "execution_count": null,
   "id": "324dc9d1-c6df-4e4e-b4f1-550ee8985dd4",
   "metadata": {},
   "outputs": [],
   "source": []
  }
 ],
 "metadata": {
  "kernelspec": {
   "display_name": "Python 3 (ipykernel)",
   "language": "python",
   "name": "python3"
  },
  "language_info": {
   "codemirror_mode": {
    "name": "ipython",
    "version": 3
   },
   "file_extension": ".py",
   "mimetype": "text/x-python",
   "name": "python",
   "nbconvert_exporter": "python",
   "pygments_lexer": "ipython3",
   "version": "3.11.5"
  }
 },
 "nbformat": 4,
 "nbformat_minor": 5
}
