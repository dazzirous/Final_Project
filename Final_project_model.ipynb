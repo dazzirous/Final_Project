{
 "cells": [
  {
   "cell_type": "code",
   "execution_count": 1,
   "id": "c7734c19-2a20-4e0f-a3a9-43d0a1258b2c",
   "metadata": {},
   "outputs": [
    {
     "name": "stdout",
     "output_type": "stream",
     "text": [
      "Requirement already satisfied: transformers in c:\\users\\dazzi\\anaconda3\\lib\\site-packages (4.43.3)\n",
      "Collecting wikipedia-api\n",
      "  Downloading Wikipedia_API-0.6.0-py3-none-any.whl.metadata (22 kB)\n",
      "Requirement already satisfied: torch in c:\\users\\dazzi\\anaconda3\\lib\\site-packages (2.4.0)\n",
      "Requirement already satisfied: filelock in c:\\users\\dazzi\\anaconda3\\lib\\site-packages (from transformers) (3.13.1)\n",
      "Requirement already satisfied: huggingface-hub<1.0,>=0.23.2 in c:\\users\\dazzi\\anaconda3\\lib\\site-packages (from transformers) (0.24.5)\n",
      "Requirement already satisfied: numpy>=1.17 in c:\\users\\dazzi\\anaconda3\\lib\\site-packages (from transformers) (1.26.4)\n",
      "Requirement already satisfied: packaging>=20.0 in c:\\users\\dazzi\\anaconda3\\lib\\site-packages (from transformers) (24.1)\n",
      "Requirement already satisfied: pyyaml>=5.1 in c:\\users\\dazzi\\anaconda3\\lib\\site-packages (from transformers) (6.0.1)\n",
      "Requirement already satisfied: regex!=2019.12.17 in c:\\users\\dazzi\\anaconda3\\lib\\site-packages (from transformers) (2023.10.3)\n",
      "Requirement already satisfied: requests in c:\\users\\dazzi\\anaconda3\\lib\\site-packages (from transformers) (2.31.0)\n",
      "Requirement already satisfied: safetensors>=0.4.1 in c:\\users\\dazzi\\anaconda3\\lib\\site-packages (from transformers) (0.4.3)\n",
      "Requirement already satisfied: tokenizers<0.20,>=0.19 in c:\\users\\dazzi\\anaconda3\\lib\\site-packages (from transformers) (0.19.1)\n",
      "Requirement already satisfied: tqdm>=4.27 in c:\\users\\dazzi\\anaconda3\\lib\\site-packages (from transformers) (4.65.0)\n",
      "Requirement already satisfied: typing-extensions>=4.8.0 in c:\\users\\dazzi\\anaconda3\\lib\\site-packages (from torch) (4.12.2)\n",
      "Requirement already satisfied: sympy in c:\\users\\dazzi\\anaconda3\\lib\\site-packages (from torch) (1.12)\n",
      "Requirement already satisfied: networkx in c:\\users\\dazzi\\anaconda3\\lib\\site-packages (from torch) (3.1)\n",
      "Requirement already satisfied: jinja2 in c:\\users\\dazzi\\anaconda3\\lib\\site-packages (from torch) (3.1.3)\n",
      "Requirement already satisfied: fsspec in c:\\users\\dazzi\\anaconda3\\lib\\site-packages (from torch) (2023.10.0)\n",
      "Requirement already satisfied: colorama in c:\\users\\dazzi\\anaconda3\\lib\\site-packages (from tqdm>=4.27->transformers) (0.4.6)\n",
      "Requirement already satisfied: MarkupSafe>=2.0 in c:\\users\\dazzi\\anaconda3\\lib\\site-packages (from jinja2->torch) (2.1.3)\n",
      "Requirement already satisfied: charset-normalizer<4,>=2 in c:\\users\\dazzi\\anaconda3\\lib\\site-packages (from requests->transformers) (2.0.4)\n",
      "Requirement already satisfied: idna<4,>=2.5 in c:\\users\\dazzi\\anaconda3\\lib\\site-packages (from requests->transformers) (3.4)\n",
      "Requirement already satisfied: urllib3<3,>=1.21.1 in c:\\users\\dazzi\\anaconda3\\lib\\site-packages (from requests->transformers) (2.2.2)\n",
      "Requirement already satisfied: certifi>=2017.4.17 in c:\\users\\dazzi\\anaconda3\\lib\\site-packages (from requests->transformers) (2024.7.4)\n",
      "Requirement already satisfied: mpmath>=0.19 in c:\\users\\dazzi\\anaconda3\\lib\\site-packages (from sympy->torch) (1.3.0)\n",
      "Downloading Wikipedia_API-0.6.0-py3-none-any.whl (14 kB)\n",
      "Installing collected packages: wikipedia-api\n",
      "Successfully installed wikipedia-api-0.6.0\n",
      "Note: you may need to restart the kernel to use updated packages.\n"
     ]
    }
   ],
   "source": [
    "pip install transformers wikipedia-api torch"
   ]
  },
  {
   "cell_type": "code",
   "execution_count": null,
   "id": "c984c178-13c1-4153-a145-70e676209644",
   "metadata": {},
   "outputs": [],
   "source": [
    "# Dependencies\n",
    "import wikipediaapi\n",
    "import requests\n",
    "import pandas as pd\n",
    "from transformers import pipeline"
   ]
  },
  {
   "cell_type": "code",
   "execution_count": null,
   "id": "1af5a9c7",
   "metadata": {},
   "outputs": [],
   "source": [
    "# Initialize the Wikipedia API with a User-Agent\n",
    "wiki_wiki = wikipediaapi.Wikipedia(\n",
    "    language='en',\n",
    "    user_agent='AmericanHistory/1.0 (dazzirous@gmai.com)'\n",
    ")"
   ]
  },
  {
   "cell_type": "code",
   "execution_count": null,
   "id": "f99da7c0",
   "metadata": {},
   "outputs": [],
   "source": [
    "# API function to get articles from a Wikipedia category\n",
    "def get_articles_from_category(category):\n",
    "    # Define the API endpoint\n",
    "    url = \"https://en.wikipedia.org/w/api.php\"\n",
    "    \n",
    "    # Define the parameters for the API call to get the list of articles in the category\n",
    "    params_category = {\n",
    "        \"action\": \"query\",\n",
    "        \"format\": \"json\",\n",
    "        \"list\": \"categorymembers\",\n",
    "        \"cmtitle\": f\"Category:{category}\",\n",
    "        \"cmlimit\": 10,  # Limit the number of articles returned, adjust as needed\n",
    "        \"cmtype\": \"page\"  # Fetch only articles (pages), not subcategories or files\n",
    "    }"
   ]
  },
  {
   "cell_type": "code",
   "execution_count": null,
   "id": "d9ba539b",
   "metadata": {},
   "outputs": [],
   "source": [
    " # Make the request to the Wikipedia API\n",
    "    response = requests.get(url, params=params_category)\n",
    "    data = response.json()\n",
    "    \n",
    "    # Extract the list of articles\n",
    "    if \"query\" in data and \"categorymembers\" in data[\"query\"]:\n",
    "        articles = data[\"query\"][\"categorymembers\"]\n",
    "        \n",
    "        # Prepare a list to hold article details\n",
    "        articles_data = []\n",
    "        \n",
    "        # Loop through each article and fetch its description\n",
    "        for article in articles:\n",
    "            title = article['title']\n",
    "            page_id = article['pageid']\n",
    "            \n",
    "            # Fetch the article description (extract)\n",
    "            params_extract = {\n",
    "                \"action\": \"query\",\n",
    "                \"format\": \"json\",\n",
    "                \"prop\": \"extracts\",\n",
    "                \"exintro\": True,\n",
    "                \"explaintext\": True,\n",
    "                \"pageids\": page_id\n",
    "            }\n",
    "            \n",
    "            response_extract = requests.get(url, params=params_extract)\n",
    "            extract_data = response_extract.json()\n",
    "            \n",
    "            # Extract the description\n",
    "            extract = extract_data['query']['pages'][str(page_id)].get('extract', 'No description available.')\n",
    "            \n",
    "            # Append the article data to the list\n",
    "            articles_data.append({\n",
    "                \"Title\": title,\n",
    "                \"Page ID\": page_id,\n",
    "                \"Description\": extract\n",
    "            })\n",
    "        \n",
    "        # Convert the list to a DataFrame\n",
    "        df = pd.DataFrame(articles_data)\n",
    "        return df\n",
    "    else:\n",
    "        print(f\"No articles found in category: {category}\")\n",
    "        return None\n",
    "        \n",
    "# Function to retrieve summary and answer questions about the American Revolution\n",
    "def get_american_revolution_summary_and_answer(question):\n",
    "    # Fetch articles related to the American Revolution\n",
    "    df_articles = get_articles_from_category(\"American Revolution\")\n",
    "    \n",
    "    # If articles are found, use their descriptions as context\n",
    "    if df_articles is not None and not df_articles.empty:\n",
    "        # Combine all descriptions into a single context\n",
    "        context = ' '.join(df_articles['Description'].tolist())\n",
    "        \n",
    "        # Initialize the Q&A model\n",
    "        qa_pipeline = pipeline(\"question-answering\", model=\"distilbert-base-cased-distilled-squad\")\n",
    "        \n",
    "        # Get the answer using the Q&A model\n",
    "        answer = qa_pipeline(question=question, context=context)\n",
    "        return answer['answer']\n",
    "    else:\n",
    "        return \"No relevant information found to answer the question.\"\n"
   ]
  }
 ],
 "metadata": {
  "kernelspec": {
   "display_name": "Python 3 (ipykernel)",
   "language": "python",
   "name": "python3"
  },
  "language_info": {
   "codemirror_mode": {
    "name": "ipython",
    "version": 3
   },
   "file_extension": ".py",
   "mimetype": "text/x-python",
   "name": "python",
   "nbconvert_exporter": "python",
   "pygments_lexer": "ipython3",
   "version": "3.11.7"
  }
 },
 "nbformat": 4,
 "nbformat_minor": 5
}
