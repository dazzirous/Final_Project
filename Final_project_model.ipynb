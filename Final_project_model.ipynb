{
 "cells": [
  {
   "cell_type": "code",
   "execution_count": 1,
   "id": "c7734c19-2a20-4e0f-a3a9-43d0a1258b2c",
   "metadata": {},
   "outputs": [
    {
     "name": "stdout",
     "output_type": "stream",
     "text": [
      "Requirement already satisfied: transformers in c:\\users\\dazzi\\anaconda3\\lib\\site-packages (4.43.3)\n",
      "Collecting wikipedia-api\n",
      "  Downloading Wikipedia_API-0.6.0-py3-none-any.whl.metadata (22 kB)\n",
      "Requirement already satisfied: torch in c:\\users\\dazzi\\anaconda3\\lib\\site-packages (2.4.0)\n",
      "Requirement already satisfied: filelock in c:\\users\\dazzi\\anaconda3\\lib\\site-packages (from transformers) (3.13.1)\n",
      "Requirement already satisfied: huggingface-hub<1.0,>=0.23.2 in c:\\users\\dazzi\\anaconda3\\lib\\site-packages (from transformers) (0.24.5)\n",
      "Requirement already satisfied: numpy>=1.17 in c:\\users\\dazzi\\anaconda3\\lib\\site-packages (from transformers) (1.26.4)\n",
      "Requirement already satisfied: packaging>=20.0 in c:\\users\\dazzi\\anaconda3\\lib\\site-packages (from transformers) (24.1)\n",
      "Requirement already satisfied: pyyaml>=5.1 in c:\\users\\dazzi\\anaconda3\\lib\\site-packages (from transformers) (6.0.1)\n",
      "Requirement already satisfied: regex!=2019.12.17 in c:\\users\\dazzi\\anaconda3\\lib\\site-packages (from transformers) (2023.10.3)\n",
      "Requirement already satisfied: requests in c:\\users\\dazzi\\anaconda3\\lib\\site-packages (from transformers) (2.31.0)\n",
      "Requirement already satisfied: safetensors>=0.4.1 in c:\\users\\dazzi\\anaconda3\\lib\\site-packages (from transformers) (0.4.3)\n",
      "Requirement already satisfied: tokenizers<0.20,>=0.19 in c:\\users\\dazzi\\anaconda3\\lib\\site-packages (from transformers) (0.19.1)\n",
      "Requirement already satisfied: tqdm>=4.27 in c:\\users\\dazzi\\anaconda3\\lib\\site-packages (from transformers) (4.65.0)\n",
      "Requirement already satisfied: typing-extensions>=4.8.0 in c:\\users\\dazzi\\anaconda3\\lib\\site-packages (from torch) (4.12.2)\n",
      "Requirement already satisfied: sympy in c:\\users\\dazzi\\anaconda3\\lib\\site-packages (from torch) (1.12)\n",
      "Requirement already satisfied: networkx in c:\\users\\dazzi\\anaconda3\\lib\\site-packages (from torch) (3.1)\n",
      "Requirement already satisfied: jinja2 in c:\\users\\dazzi\\anaconda3\\lib\\site-packages (from torch) (3.1.3)\n",
      "Requirement already satisfied: fsspec in c:\\users\\dazzi\\anaconda3\\lib\\site-packages (from torch) (2023.10.0)\n",
      "Requirement already satisfied: colorama in c:\\users\\dazzi\\anaconda3\\lib\\site-packages (from tqdm>=4.27->transformers) (0.4.6)\n",
      "Requirement already satisfied: MarkupSafe>=2.0 in c:\\users\\dazzi\\anaconda3\\lib\\site-packages (from jinja2->torch) (2.1.3)\n",
      "Requirement already satisfied: charset-normalizer<4,>=2 in c:\\users\\dazzi\\anaconda3\\lib\\site-packages (from requests->transformers) (2.0.4)\n",
      "Requirement already satisfied: idna<4,>=2.5 in c:\\users\\dazzi\\anaconda3\\lib\\site-packages (from requests->transformers) (3.4)\n",
      "Requirement already satisfied: urllib3<3,>=1.21.1 in c:\\users\\dazzi\\anaconda3\\lib\\site-packages (from requests->transformers) (2.2.2)\n",
      "Requirement already satisfied: certifi>=2017.4.17 in c:\\users\\dazzi\\anaconda3\\lib\\site-packages (from requests->transformers) (2024.7.4)\n",
      "Requirement already satisfied: mpmath>=0.19 in c:\\users\\dazzi\\anaconda3\\lib\\site-packages (from sympy->torch) (1.3.0)\n",
      "Downloading Wikipedia_API-0.6.0-py3-none-any.whl (14 kB)\n",
      "Installing collected packages: wikipedia-api\n",
      "Successfully installed wikipedia-api-0.6.0\n",
      "Note: you may need to restart the kernel to use updated packages.\n"
     ]
    }
   ],
   "source": [
    "pip install transformers wikipedia-api torch"
   ]
  },
  {
   "cell_type": "code",
   "execution_count": 2,
   "id": "c984c178-13c1-4153-a145-70e676209644",
   "metadata": {},
   "outputs": [],
   "source": [
    "import wikipediaapi\n",
    "from transformers import pipeline\n"
   ]
  },
  {
   "cell_type": "code",
   "execution_count": 4,
   "id": "f9bcf5f3-b94b-42f5-8ddc-99ae82fe7a9d",
   "metadata": {},
   "outputs": [],
   "source": [
    "import wikipediaapi\n",
    "\n",
    "# Initializing Wikipedia API with a User-Agent (Does this have to be seperate per person?)\n",
    "wiki_wiki = wikipediaapi.Wikipedia(\n",
    "    language='en',\n",
    "    user_agent='AmericanHistory/1.0 (dazzirous@gmai.com)'\n",
    ")\n",
    "\n",
    "def get_american_revolution_summary(query):\n",
    "    # Append 'American Revolution' to every query to narrow the focus\n",
    "    specific_query = f\"{query} American Revolution\"\n",
    "    \n",
    "    # Retrieve the Wikipedia page\n",
    "    page = wiki_wiki.page(specific_query)\n",
    "    \n",
    "    if page.exists():\n",
    "        return page.summary\n",
    "    else:\n",
    "        return \"Sorry, no detailed information found on this specific topic.\""
   ]
  },
  {
   "cell_type": "code",
   "execution_count": 5,
   "id": "704cfb08-2c56-4742-8f92-b1c409f54b57",
   "metadata": {},
   "outputs": [
    {
     "name": "stdout",
     "output_type": "stream",
     "text": [
      "WARNING:tensorflow:From C:\\Users\\dazzi\\anaconda3\\Lib\\site-packages\\tf_keras\\src\\losses.py:2976: The name tf.losses.sparse_softmax_cross_entropy is deprecated. Please use tf.compat.v1.losses.sparse_softmax_cross_entropy instead.\n",
      "\n"
     ]
    }
   ],
   "source": [
    "# Loading the QA pipeline with a pre-trained model\n",
    "qa_pipeline = pipeline(\"question-answering\", model=\"distilbert-base-cased-distilled-squad\")\n",
    "\n",
    "def answer_question(context, question):\n",
    "    result = qa_pipeline(question=question, context=context)\n",
    "    return result['answer']\n"
   ]
  },
  {
   "cell_type": "code",
   "execution_count": 6,
   "id": "f7896695-11e4-4562-b964-568b069a18b2",
   "metadata": {},
   "outputs": [],
   "source": [
    "def get_answer(question):\n",
    "    # Retrieve content from Wikipedia\n",
    "    context = get_wikipedia_summary(question)\n",
    "    if \"Sorry\" in context:\n",
    "        return context\n",
    "    # Get answer from the Q&A model\n",
    "    answer = answer_question(context, question)\n",
    "    return answer\n"
   ]
  },
  {
   "cell_type": "code",
   "execution_count": 7,
   "id": "d36179c7-43cd-46c8-97ff-c91ded2622bf",
   "metadata": {},
   "outputs": [
    {
     "name": "stdout",
     "output_type": "stream",
     "text": [
      "Q: What were the causes of the American Revolution?\n",
      "A: Sorry, no information found on this topic.\n"
     ]
    }
   ],
   "source": [
    "# Example question\n",
    "question = \"What were the causes of the American Revolution?\"\n",
    "\n",
    "# Answer \n",
    "answer = get_answer(question)\n",
    "print(f\"Q: {question}\\nA: {answer}\")\n"
   ]
  },
  {
   "cell_type": "code",
   "execution_count": null,
   "id": "43f32964-f42d-4eeb-ae50-4958aee9e07b",
   "metadata": {},
   "outputs": [],
   "source": [
    "# Sample context related to the American Revolution for testing purposes\n",
    "sample_context = \"\"\"\n",
    "The American Revolution was a political upheaval between 1765 and 1783 during which the Thirteen American Colonies broke from the British Empire and formed an independent nation, the United States of America. \n",
    "It involved a series of events such as the Boston Tea Party, the Intolerable Acts, the Declaration of Independence, and key battles like the Battle of Bunker Hill and the Siege of Yorktown.\n",
    "\"\"\"\n",
    "\n",
    "def test_with_sample_context(question):\n",
    "    answer = answer_question(sample_context, question)\n",
    "    return answer\n",
    "\n",
    "# Example use for manual testing\n",
    "question = \"What were the causes of the American Revolution?\"\n",
    "answer = test_with_sample_context(question)\n",
    "print(f\"Q: {question}\\nA: {answer}\")"
   ]
  }
 ],
 "metadata": {
  "kernelspec": {
   "display_name": "Python 3 (ipykernel)",
   "language": "python",
   "name": "python3"
  },
  "language_info": {
   "codemirror_mode": {
    "name": "ipython",
    "version": 3
   },
   "file_extension": ".py",
   "mimetype": "text/x-python",
   "name": "python",
   "nbconvert_exporter": "python",
   "pygments_lexer": "ipython3",
   "version": "3.11.7"
  }
 },
 "nbformat": 4,
 "nbformat_minor": 5
}
