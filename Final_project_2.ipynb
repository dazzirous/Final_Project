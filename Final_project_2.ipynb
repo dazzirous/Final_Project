{
 "cells": [
  {
   "cell_type": "code",
   "execution_count": 3,
   "id": "aaf64f5d-17e6-4022-b141-8716f44135e7",
   "metadata": {
    "tags": []
   },
   "outputs": [
    {
     "name": "stdout",
     "output_type": "stream",
     "text": [
      "WARNING:tensorflow:From C:\\Users\\brian\\anaconda4\\Lib\\site-packages\\tf_keras\\src\\losses.py:2976: The name tf.losses.sparse_softmax_cross_entropy is deprecated. Please use tf.compat.v1.losses.sparse_softmax_cross_entropy instead.\n",
      "\n"
     ]
    },
    {
     "name": "stderr",
     "output_type": "stream",
     "text": [
      "Some weights of the model checkpoint at bert-large-uncased-whole-word-masking-finetuned-squad were not used when initializing BertForQuestionAnswering: ['bert.pooler.dense.bias', 'bert.pooler.dense.weight']\n",
      "- This IS expected if you are initializing BertForQuestionAnswering from the checkpoint of a model trained on another task or with another architecture (e.g. initializing a BertForSequenceClassification model from a BertForPreTraining model).\n",
      "- This IS NOT expected if you are initializing BertForQuestionAnswering from the checkpoint of a model that you expect to be exactly identical (initializing a BertForSequenceClassification model from a BertForSequenceClassification model).\n"
     ]
    },
    {
     "name": "stdout",
     "output_type": "stream",
     "text": [
      "Q: Who was involved in the American Revolution? Who else?\n",
      "A: Paul Revere and Samuel Adams\n"
     ]
    }
   ],
   "source": [
    "import pandas as pd\n",
    "from transformers import pipeline\n",
    "from vaderSentiment.vaderSentiment import SentimentIntensityAnalyzer\n",
    "import gradio as gr\n",
    "\n",
    "# Load the CSV containing articles' data\n",
    "df_articles = pd.read_csv('american_revolution_summaries.csv')\n",
    "\n",
    "# Initialize the Hugging Face question-answering pipeline\n",
    "qa_pipeline = pipeline(\"question-answering\", model=\"bert-large-uncased-whole-word-masking-finetuned-squad\")\n",
    "\n",
    "# Initialize VADER sentiment analyzer\n",
    "analyzer = SentimentIntensityAnalyzer()\n",
    "\n",
    "# Function to get answers and analyze sentiment\n",
    "def get_answer_and_sentiment(question):\n",
    "    best_answer = None\n",
    "    best_score = 0\n",
    "    best_context = None\n",
    "\n",
    "    for _, row in df_articles.iterrows():\n",
    "        context = row['Summary']\n",
    "        \n",
    "        # Ensure the context is a string and not empty\n",
    "        if not isinstance(context, str) or context.strip() == \"\":\n",
    "            continue\n",
    "        \n",
    "        # Use the QA model to get an answer\n",
    "        try:\n",
    "            result = qa_pipeline(question=question, context=context)\n",
    "        except Exception as e:\n",
    "            print(f\"Error processing context: {e}\")\n",
    "            continue\n",
    "        \n",
    "        # Compare the score with the best score so far\n",
    "        if result['score'] > best_score:\n",
    "            best_score = result['score']\n",
    "            best_answer = result['answer']\n",
    "            best_context = context  # Save the context in case it's needed for debugging\n",
    "\n",
    "    if best_answer:\n",
    "        sentiment = analyzer.polarity_scores(best_answer)\n",
    "        return best_answer, {\"Sentiment\": sentiment, \"Confidence\": best_score}\n",
    "    else:\n",
    "        return \"No relevant content available.\", {}\n",
    "\n",
    "# Gradio Interface\n",
    "interface = gr.Interface(\n",
    "    fn=get_answer_and_sentiment,\n",
    "    inputs=gr.Textbox(label=\"Question\", placeholder=\"Enter your question here...\"),\n",
    "    outputs=[\n",
    "        gr.Textbox(label=\"Answer\"),\n",
    "        gr.JSON(label=\"Sentiment and Confidence\")\n",
    "    ]\n",
    ")\n",
    "\n",
    "interface.launch()\n"
   ]
  },
  {
   "cell_type": "code",
   "execution_count": null,
   "id": "dbbe3a9c-19de-4398-86ac-6f3c6de1b3eb",
   "metadata": {},
   "outputs": [],
   "source": []
  }
 ],
 "metadata": {
  "kernelspec": {
   "display_name": "Python 3 (ipykernel)",
   "language": "python",
   "name": "python3"
  },
  "language_info": {
   "codemirror_mode": {
    "name": "ipython",
    "version": 3
   },
   "file_extension": ".py",
   "mimetype": "text/x-python",
   "name": "python",
   "nbconvert_exporter": "python",
   "pygments_lexer": "ipython3",
   "version": "3.11.8"
  }
 },
 "nbformat": 4,
 "nbformat_minor": 5
}
