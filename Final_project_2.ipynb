{
 "cells": [
  {
   "cell_type": "code",
   "execution_count": 7,
   "id": "aaf64f5d-17e6-4022-b141-8716f44135e7",
   "metadata": {},
   "outputs": [
    {
     "name": "stderr",
     "output_type": "stream",
     "text": [
      "Some weights of the model checkpoint at bert-large-uncased-whole-word-masking-finetuned-squad were not used when initializing BertForQuestionAnswering: ['bert.pooler.dense.bias', 'bert.pooler.dense.weight']\n",
      "- This IS expected if you are initializing BertForQuestionAnswering from the checkpoint of a model trained on another task or with another architecture (e.g. initializing a BertForSequenceClassification model from a BertForPreTraining model).\n",
      "- This IS NOT expected if you are initializing BertForQuestionAnswering from the checkpoint of a model that you expect to be exactly identical (initializing a BertForSequenceClassification model from a BertForSequenceClassification model).\n"
     ]
    },
    {
     "name": "stdout",
     "output_type": "stream",
     "text": [
      "Q: Who was involved in the American Revolution? Who else?\n",
      "A: Paul Revere and Samuel Adams\n"
     ]
    }
   ],
   "source": [
    "import pandas as pd\n",
    "from transformers import pipeline\n",
    "\n",
    "# Load the CSV containing articles' data\n",
    "df_articles = pd.read_csv('american_revolution_articles.csv')\n",
    "\n",
    "# Initialize the Hugging Face question-answering pipeline\n",
    "qa_pipeline = pipeline(\"question-answering\", model=\"bert-large-uncased-whole-word-masking-finetuned-squad\")\n",
    "\n",
    "# Function to retrieve content from the DataFrame\n",
    "def get_article_content(page_id):\n",
    "    # Filter the DataFrame for the specific page ID and retrieve the content\n",
    "    content = df_articles.loc[df_articles['Page ID'] == page_id, 'Content'].iloc[0]\n",
    "    return content\n",
    "\n",
    "# Function to get answers to questions based on the content of a specific article\n",
    "def get_answer(question, page_id):\n",
    "    # Retrieve content for the specific article\n",
    "    context = get_article_content(page_id)\n",
    "    if context:\n",
    "        # Use the QA model to get an answer\n",
    "        answer = qa_pipeline(question=question, context=context)\n",
    "        return answer['answer']\n",
    "    else:\n",
    "        return \"No relevant content available.\"\n",
    "\n",
    "# Example Usage\n",
    "page_id_example = 82254  # Example page ID from your CSV\n",
    "question_example = \"Who was involved in the American Revolution? Who else?\"\n",
    "\n",
    "# Get the answer\n",
    "answer = get_answer(question_example, page_id_example)\n",
    "print(f\"Q: {question_example}\\nA: {answer}\")\n"
   ]
  },
  {
   "cell_type": "code",
   "execution_count": 8,
   "id": "c0efeb75-0ef7-4e93-b8f5-f34df796d8ec",
   "metadata": {},
   "outputs": [],
   "source": [
    "import gradio as gr\n",
    "\n",
    "theme = gr.themes.Default(\n",
    "    primary_hue=\"blue\",\n",
    "    neutral_hue=\"stone\",\n",
    "    \n",
    ")\n",
    "\n",
    "with gr.Blocks(theme=theme) as demo:\n",
    "    ..."
   ]
  },
  {
   "cell_type": "code",
   "execution_count": 9,
   "id": "349ae2ac-c4fd-45a5-afeb-acbb908c3951",
   "metadata": {},
   "outputs": [
    {
     "name": "stderr",
     "output_type": "stream",
     "text": [
      "C:\\Users\\dazzi\\anaconda3\\Lib\\site-packages\\gradio\\utils.py:986: UserWarning: Expected 2 arguments for function <function get_answer at 0x000001C8C32BB9C0>, received 1.\n",
      "  warnings.warn(\n",
      "C:\\Users\\dazzi\\anaconda3\\Lib\\site-packages\\gradio\\utils.py:990: UserWarning: Expected at least 2 arguments for function <function get_answer at 0x000001C8C32BB9C0>, received 1.\n",
      "  warnings.warn(\n"
     ]
    },
    {
     "name": "stdout",
     "output_type": "stream",
     "text": [
      "Running on local URL:  http://127.0.0.1:7861\n",
      "\n",
      "To create a public link, set `share=True` in `launch()`.\n"
     ]
    },
    {
     "data": {
      "text/html": [
       "<div><iframe src=\"http://127.0.0.1:7861/\" width=\"100%\" height=\"500\" allow=\"autoplay; camera; microphone; clipboard-read; clipboard-write;\" frameborder=\"0\" allowfullscreen></iframe></div>"
      ],
      "text/plain": [
       "<IPython.core.display.HTML object>"
      ]
     },
     "metadata": {},
     "output_type": "display_data"
    },
    {
     "data": {
      "text/plain": []
     },
     "execution_count": 9,
     "metadata": {},
     "output_type": "execute_result"
    }
   ],
   "source": [
    "# Building the interface functions\n",
    "\n",
    "interface= gr.Interface(fn=get_answer,\n",
    "                       inputs=gr.Textbox(placeholder=\"\"),\n",
    "                       outputs=gr.Textbox(placeholder=\"\"),\n",
    "                       theme=theme\n",
    "                       )\n",
    "                 \n",
    "\n",
    "                       \n",
    "interface.launch()"
   ]
  },
  {
   "cell_type": "code",
   "execution_count": null,
   "id": "a884364e-26e3-4452-aaa7-4cf80b3289b5",
   "metadata": {},
   "outputs": [],
   "source": []
  }
 ],
 "metadata": {
  "kernelspec": {
   "display_name": "Python 3 (ipykernel)",
   "language": "python",
   "name": "python3"
  },
  "language_info": {
   "codemirror_mode": {
    "name": "ipython",
    "version": 3
   },
   "file_extension": ".py",
   "mimetype": "text/x-python",
   "name": "python",
   "nbconvert_exporter": "python",
   "pygments_lexer": "ipython3",
   "version": "3.11.7"
  }
 },
 "nbformat": 4,
 "nbformat_minor": 5
}
